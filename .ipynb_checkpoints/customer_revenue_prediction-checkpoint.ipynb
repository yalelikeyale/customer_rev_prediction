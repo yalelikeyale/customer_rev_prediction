{
 "cells": [
  {
   "cell_type": "markdown",
   "metadata": {},
   "source": [
    "# Google Analytics Google Merchandise Kaggle Competition"
   ]
  },
  {
   "cell_type": "code",
   "execution_count": 1,
   "metadata": {},
   "outputs": [],
   "source": [
    "import pandas as pd\n",
    "import numpy as np\n",
    "import random\n",
    "import json\n",
    "import datetime"
   ]
  },
  {
   "cell_type": "code",
   "execution_count": 6,
   "metadata": {},
   "outputs": [],
   "source": [
    "train_file = './all/train.csv'"
   ]
  },
  {
   "cell_type": "code",
   "execution_count": 8,
   "metadata": {},
   "outputs": [
    {
     "name": "stderr",
     "output_type": "stream",
     "text": [
      "/anaconda2/envs/py36/lib/python3.6/site-packages/IPython/core/interactiveshell.py:2785: DtypeWarning: Columns (3) have mixed types. Specify dtype option on import or set low_memory=False.\n",
      "  interactivity=interactivity, compiler=compiler, result=result)\n"
     ]
    }
   ],
   "source": [
    "np.random.seed(42)\n",
    "train_df = pd.read_csv(train_file, header=0, skiprows=lambda x: (x>0) & (np.random.random() > 0.3))"
   ]
  },
  {
   "cell_type": "markdown",
   "metadata": {},
   "source": [
    "- **fullVisitorId** - A unique identifier for each user of the Google Merchandise Store.\n",
    "\n",
    "\n",
    "- **channelGrouping** - The channel via which the user came to the Store.\n",
    "\n",
    "\n",
    "- **date** - The date on which the user visited the Store.\n",
    "\n",
    "\n",
    "- **device** - The specifications for the device used to access the Store.\n",
    "\n",
    "\n",
    "- **geoNetwork** - This section contains information about the geography of the user.\n",
    "\n",
    "\n",
    "- **sessionId** - A unique identifier for this visit to the store.\n",
    "\n",
    "\n",
    "- **socialEngagementType** - Engagement type, either \"Socially Engaged\" or \"Not Socially Engaged\".\n",
    "\n",
    "\n",
    "- **totals** - This section contains aggregate values across the session.\n",
    "\n",
    "\n",
    "- **trafficSource** - This section contains information about the Traffic Source from which the session originated.\n",
    "\n",
    "\n",
    "- **visitId** - An identifier for this session. This is part of the value usually stored as the _utmb cookie. This is only unique to the user. For a completely unique ID, you should use a combination of fullVisitorId and visitId.\n",
    "\n",
    "\n",
    "- **visitNumber** - The session number for this user. If this is the first session, then this is set to 1.\n",
    "\n",
    "\n",
    "- **visitStartTime** - The timestamp (expressed as POSIX time)."
   ]
  },
  {
   "cell_type": "markdown",
   "metadata": {},
   "source": [
    "# Hypothesis\n",
    "\n",
    "1. Need to do user segmentation. Users with different characteristics will spend differently.\n",
    "    - Do some analysis to see if people from different locations/ marketing channels/ campaigns/ social engagement/ and device types spend differently\n",
    "    \n",
    "   \n",
    "2. Mess around with the lifetimes library to generate rfm tables"
   ]
  },
  {
   "cell_type": "markdown",
   "metadata": {},
   "source": [
    "# Data Exploration Observations:\n",
    "\n",
    "1. There are duplicate sessionId's that have different dates not just times\n",
    "2. VisitStartTime doesn't match up with the date (maybe date is first visit?)\n",
    "\n",
    "### To handle the json strings, create tables\n",
    "\n",
    "1. Questions\n",
    "    - Are people ever moving around and still shopping\n",
    "    - Is a significant portion of the shoppers from a small subset of locations\n",
    "    - Is there any user specific data or is it all specific to each session \n",
    "    \n",
    "* Start with thinking they're session attributes\n",
    "    - Unpack json strings and create new features with the information"
   ]
  },
  {
   "cell_type": "markdown",
   "metadata": {},
   "source": [
    "# Strategy Notes\n",
    "\n",
    "1. Attempt user segmentation to create features that will enhance accuracy of revenue predictions (don't use target)\n",
    "    - SVM \n",
    "    - SOM\n",
    "    - SOM w/ Tensorflow\n",
    "    - RFM segmentation\n",
    "    \n",
    "2. Get baseline accuracy using a simple model then attempt model stacking"
   ]
  },
  {
   "cell_type": "code",
   "execution_count": 9,
   "metadata": {},
   "outputs": [
    {
     "data": {
      "text/plain": [
       "(270580, 12)"
      ]
     },
     "execution_count": 9,
     "metadata": {},
     "output_type": "execute_result"
    }
   ],
   "source": [
    "train_df.shape"
   ]
  },
  {
   "cell_type": "code",
   "execution_count": 10,
   "metadata": {},
   "outputs": [],
   "source": [
    "train_df['date'] = pd.to_datetime(train_df['date'].astype(str))"
   ]
  },
  {
   "cell_type": "code",
   "execution_count": 11,
   "metadata": {},
   "outputs": [],
   "source": [
    "train_df['visitStartTime'] = pd.to_datetime(train_df['visitStartTime'][0:5],unit='s')"
   ]
  },
  {
   "cell_type": "code",
   "execution_count": 12,
   "metadata": {},
   "outputs": [
    {
     "data": {
      "text/html": [
       "<div>\n",
       "<style scoped>\n",
       "    .dataframe tbody tr th:only-of-type {\n",
       "        vertical-align: middle;\n",
       "    }\n",
       "\n",
       "    .dataframe tbody tr th {\n",
       "        vertical-align: top;\n",
       "    }\n",
       "\n",
       "    .dataframe thead th {\n",
       "        text-align: right;\n",
       "    }\n",
       "</style>\n",
       "<table border=\"1\" class=\"dataframe\">\n",
       "  <thead>\n",
       "    <tr style=\"text-align: right;\">\n",
       "      <th></th>\n",
       "      <th>channelGrouping</th>\n",
       "      <th>date</th>\n",
       "      <th>device</th>\n",
       "      <th>fullVisitorId</th>\n",
       "      <th>geoNetwork</th>\n",
       "      <th>sessionId</th>\n",
       "      <th>socialEngagementType</th>\n",
       "      <th>totals</th>\n",
       "      <th>trafficSource</th>\n",
       "      <th>visitId</th>\n",
       "      <th>visitNumber</th>\n",
       "      <th>visitStartTime</th>\n",
       "    </tr>\n",
       "  </thead>\n",
       "  <tbody>\n",
       "    <tr>\n",
       "      <th>0</th>\n",
       "      <td>Organic Search</td>\n",
       "      <td>2016-09-02</td>\n",
       "      <td>{\"browser\": \"UC Browser\", \"browserVersion\": \"n...</td>\n",
       "      <td>4763447161404445595</td>\n",
       "      <td>{\"continent\": \"Asia\", \"subContinent\": \"Southea...</td>\n",
       "      <td>4763447161404445595_1472881213</td>\n",
       "      <td>Not Socially Engaged</td>\n",
       "      <td>{\"visits\": \"1\", \"hits\": \"1\", \"pageviews\": \"1\",...</td>\n",
       "      <td>{\"campaign\": \"(not set)\", \"source\": \"google\", ...</td>\n",
       "      <td>1472881213</td>\n",
       "      <td>1</td>\n",
       "      <td>2016-09-03 05:40:13</td>\n",
       "    </tr>\n",
       "    <tr>\n",
       "      <th>1</th>\n",
       "      <td>Organic Search</td>\n",
       "      <td>2016-09-02</td>\n",
       "      <td>{\"browser\": \"Chrome\", \"browserVersion\": \"not a...</td>\n",
       "      <td>27294437909732085</td>\n",
       "      <td>{\"continent\": \"Europe\", \"subContinent\": \"North...</td>\n",
       "      <td>27294437909732085_1472822600</td>\n",
       "      <td>Not Socially Engaged</td>\n",
       "      <td>{\"visits\": \"1\", \"hits\": \"1\", \"pageviews\": \"1\",...</td>\n",
       "      <td>{\"campaign\": \"(not set)\", \"source\": \"google\", ...</td>\n",
       "      <td>1472822600</td>\n",
       "      <td>2</td>\n",
       "      <td>2016-09-02 13:23:20</td>\n",
       "    </tr>\n",
       "    <tr>\n",
       "      <th>2</th>\n",
       "      <td>Organic Search</td>\n",
       "      <td>2016-09-02</td>\n",
       "      <td>{\"browser\": \"Chrome\", \"browserVersion\": \"not a...</td>\n",
       "      <td>2938943183656635653</td>\n",
       "      <td>{\"continent\": \"Europe\", \"subContinent\": \"South...</td>\n",
       "      <td>2938943183656635653_1472807194</td>\n",
       "      <td>Not Socially Engaged</td>\n",
       "      <td>{\"visits\": \"1\", \"hits\": \"1\", \"pageviews\": \"1\",...</td>\n",
       "      <td>{\"campaign\": \"(not set)\", \"source\": \"google\", ...</td>\n",
       "      <td>1472807194</td>\n",
       "      <td>1</td>\n",
       "      <td>2016-09-02 09:06:34</td>\n",
       "    </tr>\n",
       "    <tr>\n",
       "      <th>3</th>\n",
       "      <td>Organic Search</td>\n",
       "      <td>2016-09-02</td>\n",
       "      <td>{\"browser\": \"Firefox\", \"browserVersion\": \"not ...</td>\n",
       "      <td>9499785259412240342</td>\n",
       "      <td>{\"continent\": \"Europe\", \"subContinent\": \"Weste...</td>\n",
       "      <td>9499785259412240342_1472812272</td>\n",
       "      <td>Not Socially Engaged</td>\n",
       "      <td>{\"visits\": \"1\", \"hits\": \"1\", \"pageviews\": \"1\",...</td>\n",
       "      <td>{\"campaign\": \"(not set)\", \"source\": \"google\", ...</td>\n",
       "      <td>1472812272</td>\n",
       "      <td>1</td>\n",
       "      <td>2016-09-02 10:31:12</td>\n",
       "    </tr>\n",
       "    <tr>\n",
       "      <th>4</th>\n",
       "      <td>Organic Search</td>\n",
       "      <td>2016-09-02</td>\n",
       "      <td>{\"browser\": \"Safari\", \"browserVersion\": \"not a...</td>\n",
       "      <td>357659889600827884</td>\n",
       "      <td>{\"continent\": \"Asia\", \"subContinent\": \"Western...</td>\n",
       "      <td>357659889600827884_1472839882</td>\n",
       "      <td>Not Socially Engaged</td>\n",
       "      <td>{\"visits\": \"1\", \"hits\": \"1\", \"pageviews\": \"1\",...</td>\n",
       "      <td>{\"campaign\": \"(not set)\", \"source\": \"google\", ...</td>\n",
       "      <td>1472839882</td>\n",
       "      <td>1</td>\n",
       "      <td>2016-09-02 18:11:22</td>\n",
       "    </tr>\n",
       "  </tbody>\n",
       "</table>\n",
       "</div>"
      ],
      "text/plain": [
       "  channelGrouping       date  \\\n",
       "0  Organic Search 2016-09-02   \n",
       "1  Organic Search 2016-09-02   \n",
       "2  Organic Search 2016-09-02   \n",
       "3  Organic Search 2016-09-02   \n",
       "4  Organic Search 2016-09-02   \n",
       "\n",
       "                                              device        fullVisitorId  \\\n",
       "0  {\"browser\": \"UC Browser\", \"browserVersion\": \"n...  4763447161404445595   \n",
       "1  {\"browser\": \"Chrome\", \"browserVersion\": \"not a...    27294437909732085   \n",
       "2  {\"browser\": \"Chrome\", \"browserVersion\": \"not a...  2938943183656635653   \n",
       "3  {\"browser\": \"Firefox\", \"browserVersion\": \"not ...  9499785259412240342   \n",
       "4  {\"browser\": \"Safari\", \"browserVersion\": \"not a...   357659889600827884   \n",
       "\n",
       "                                          geoNetwork  \\\n",
       "0  {\"continent\": \"Asia\", \"subContinent\": \"Southea...   \n",
       "1  {\"continent\": \"Europe\", \"subContinent\": \"North...   \n",
       "2  {\"continent\": \"Europe\", \"subContinent\": \"South...   \n",
       "3  {\"continent\": \"Europe\", \"subContinent\": \"Weste...   \n",
       "4  {\"continent\": \"Asia\", \"subContinent\": \"Western...   \n",
       "\n",
       "                        sessionId  socialEngagementType  \\\n",
       "0  4763447161404445595_1472881213  Not Socially Engaged   \n",
       "1    27294437909732085_1472822600  Not Socially Engaged   \n",
       "2  2938943183656635653_1472807194  Not Socially Engaged   \n",
       "3  9499785259412240342_1472812272  Not Socially Engaged   \n",
       "4   357659889600827884_1472839882  Not Socially Engaged   \n",
       "\n",
       "                                              totals  \\\n",
       "0  {\"visits\": \"1\", \"hits\": \"1\", \"pageviews\": \"1\",...   \n",
       "1  {\"visits\": \"1\", \"hits\": \"1\", \"pageviews\": \"1\",...   \n",
       "2  {\"visits\": \"1\", \"hits\": \"1\", \"pageviews\": \"1\",...   \n",
       "3  {\"visits\": \"1\", \"hits\": \"1\", \"pageviews\": \"1\",...   \n",
       "4  {\"visits\": \"1\", \"hits\": \"1\", \"pageviews\": \"1\",...   \n",
       "\n",
       "                                       trafficSource     visitId  visitNumber  \\\n",
       "0  {\"campaign\": \"(not set)\", \"source\": \"google\", ...  1472881213            1   \n",
       "1  {\"campaign\": \"(not set)\", \"source\": \"google\", ...  1472822600            2   \n",
       "2  {\"campaign\": \"(not set)\", \"source\": \"google\", ...  1472807194            1   \n",
       "3  {\"campaign\": \"(not set)\", \"source\": \"google\", ...  1472812272            1   \n",
       "4  {\"campaign\": \"(not set)\", \"source\": \"google\", ...  1472839882            1   \n",
       "\n",
       "       visitStartTime  \n",
       "0 2016-09-03 05:40:13  \n",
       "1 2016-09-02 13:23:20  \n",
       "2 2016-09-02 09:06:34  \n",
       "3 2016-09-02 10:31:12  \n",
       "4 2016-09-02 18:11:22  "
      ]
     },
     "execution_count": 12,
     "metadata": {},
     "output_type": "execute_result"
    }
   ],
   "source": [
    "train_df.head()"
   ]
  },
  {
   "cell_type": "code",
   "execution_count": 33,
   "metadata": {},
   "outputs": [
    {
     "data": {
      "text/plain": [
       "'totals'"
      ]
     },
     "execution_count": 33,
     "metadata": {},
     "output_type": "execute_result"
    }
   ],
   "source": [
    "columns.pop(0)"
   ]
  },
  {
   "cell_type": "code",
   "execution_count": 34,
   "metadata": {},
   "outputs": [
    {
     "data": {
      "text/plain": [
       "['device', 'geoNetwork', 'trafficSource']"
      ]
     },
     "execution_count": 34,
     "metadata": {},
     "output_type": "execute_result"
    }
   ],
   "source": [
    "columns "
   ]
  },
  {
   "cell_type": "code",
   "execution_count": 35,
   "metadata": {},
   "outputs": [],
   "source": [
    "columns = ['totals','device','geoNetwork','trafficSource']\n",
    "dfs = [train_df[['sessionId',col]].set_index('sessionId')[col].apply(lambda x: pd.Series(json.loads(x))) for col in columns]\n",
    "df1 = dfs.pop(0)\n",
    "unpacked = df1.join(dfs)"
   ]
  },
  {
   "cell_type": "code",
   "execution_count": 36,
   "metadata": {},
   "outputs": [],
   "source": [
    "del dfs\n",
    "del df1"
   ]
  },
  {
   "cell_type": "code",
   "execution_count": null,
   "metadata": {},
   "outputs": [],
   "source": []
  }
 ],
 "metadata": {
  "kernelspec": {
   "display_name": "Python [conda env:py36]",
   "language": "python",
   "name": "conda-env-py36-py"
  },
  "language_info": {
   "codemirror_mode": {
    "name": "ipython",
    "version": 3
   },
   "file_extension": ".py",
   "mimetype": "text/x-python",
   "name": "python",
   "nbconvert_exporter": "python",
   "pygments_lexer": "ipython3",
   "version": "3.6.6"
  }
 },
 "nbformat": 4,
 "nbformat_minor": 2
}
